{
 "cells": [
  {
   "cell_type": "markdown",
   "id": "f8a959f9",
   "metadata": {},
   "source": [
    "# IMPORTING MODULES"
   ]
  },
  {
   "cell_type": "code",
   "execution_count": null,
   "id": "cff1f36f",
   "metadata": {},
   "outputs": [
    {
     "name": "stdout",
     "output_type": "stream",
     "text": [
      "2\n",
      "10\n",
      "1\n",
      "6\n",
      "1\n"
     ]
    }
   ],
   "source": [
    "#Importing the random module to generate random numbers\n",
    "import random\n",
    "for i in range(5):\n",
    "    print(random.randint(1, 10))\n",
    "\n",
    "    #The above code generates 5 random integers between 1 and 10 (inclusive)."
   ]
  },
  {
   "cell_type": "code",
   "execution_count": null,
   "id": "73aa8cb3",
   "metadata": {},
   "outputs": [],
   "source": [
    "#Importing the sys module to exit the program\n",
    "import sys\n",
    "\n",
    "while True:\n",
    "    print('Type exit to exit.')\n",
    "    response = input()\n",
    "    if response == 'exit':\n",
    "        sys.exit()\n",
    "    print('You typed ' + response + '.')"
   ]
  },
  {
   "cell_type": "code",
   "execution_count": 16,
   "id": "c04e4ef5",
   "metadata": {},
   "outputs": [
    {
     "name": "stdout",
     "output_type": "stream",
     "text": [
      "I am thinking of a number between 1 and 20.\n",
      "Take a guess.\n",
      "Your guess is too high.\n",
      "Take a guess.\n",
      "Good job! You guessed my number in 2 guesses!\n"
     ]
    }
   ],
   "source": [
    "# This is a guess the number game.\n",
    "import random\n",
    "secretNumber = random.randint(1, 20)\n",
    "print('I am thinking of a number between 1 and 20.')\n",
    "\n",
    "# Ask the player to guess 6 times.\n",
    "for guessesTaken in range(1,7):\n",
    "    print('Take a guess.')\n",
    "    guess = int(input())\n",
    "\n",
    "    if guess < secretNumber:\n",
    "        print('Your guess is too low.')\n",
    "    elif guess > secretNumber:\n",
    "        print('Your guess is too high.')\n",
    "    else:\n",
    "        break    # This condition is the correct guess!\n",
    "\n",
    "if guess == secretNumber:\n",
    "    print('Good job! You guessed my number in ' + str(guessesTaken) + ' guesses!')\n",
    "else:\n",
    "    print('Nope. The number I was thinking of was ' + str(secretNumber))"
   ]
  },
  {
   "cell_type": "code",
   "execution_count": 17,
   "id": "ff31b31f",
   "metadata": {},
   "outputs": [
    {
     "name": "stdout",
     "output_type": "stream",
     "text": [
      "ROCK, PAPER, SCISSORS\n",
      "0 Wins, 0 Losses, 0 Ties\n",
      "Enter your move: (r)ock (p)aper (s)cissors or (q)uit\n",
      "ROCK versus...\n",
      "PAPER\n",
      "You lose!\n",
      "0 Wins, 1 Losses, 0 Ties\n",
      "Enter your move: (r)ock (p)aper (s)cissors or (q)uit\n",
      "ROCK versus...\n",
      "SCISSORS\n",
      "You win!\n",
      "1 Wins, 1 Losses, 0 Ties\n",
      "Enter your move: (r)ock (p)aper (s)cissors or (q)uit\n",
      "ROCK versus...\n",
      "SCISSORS\n",
      "You win!\n",
      "2 Wins, 1 Losses, 0 Ties\n",
      "Enter your move: (r)ock (p)aper (s)cissors or (q)uit\n",
      "ROCK versus...\n",
      "ROCK\n",
      "It is a tie!\n",
      "2 Wins, 1 Losses, 1 Ties\n",
      "Enter your move: (r)ock (p)aper (s)cissors or (q)uit\n",
      "ROCK versus...\n",
      "SCISSORS\n",
      "You win!\n",
      "3 Wins, 1 Losses, 1 Ties\n",
      "Enter your move: (r)ock (p)aper (s)cissors or (q)uit\n",
      "ROCK versus...\n",
      "ROCK\n",
      "It is a tie!\n",
      "3 Wins, 1 Losses, 2 Ties\n",
      "Enter your move: (r)ock (p)aper (s)cissors or (q)uit\n",
      "ROCK versus...\n",
      "PAPER\n",
      "You lose!\n",
      "3 Wins, 2 Losses, 2 Ties\n",
      "Enter your move: (r)ock (p)aper (s)cissors or (q)uit\n",
      "ROCK versus...\n",
      "ROCK\n",
      "It is a tie!\n",
      "3 Wins, 2 Losses, 3 Ties\n",
      "Enter your move: (r)ock (p)aper (s)cissors or (q)uit\n",
      "ROCK versus...\n",
      "PAPER\n",
      "You lose!\n",
      "3 Wins, 3 Losses, 3 Ties\n",
      "Enter your move: (r)ock (p)aper (s)cissors or (q)uit\n",
      "ROCK versus...\n",
      "SCISSORS\n",
      "You win!\n",
      "4 Wins, 3 Losses, 3 Ties\n",
      "Enter your move: (r)ock (p)aper (s)cissors or (q)uit\n",
      "ROCK versus...\n",
      "PAPER\n",
      "You lose!\n",
      "4 Wins, 4 Losses, 3 Ties\n",
      "Enter your move: (r)ock (p)aper (s)cissors or (q)uit\n",
      "ROCK versus...\n",
      "ROCK\n",
      "It is a tie!\n",
      "4 Wins, 4 Losses, 4 Ties\n",
      "Enter your move: (r)ock (p)aper (s)cissors or (q)uit\n",
      "ROCK versus...\n",
      "SCISSORS\n",
      "You win!\n",
      "5 Wins, 4 Losses, 4 Ties\n",
      "Enter your move: (r)ock (p)aper (s)cissors or (q)uit\n",
      "ROCK versus...\n",
      "ROCK\n",
      "It is a tie!\n",
      "5 Wins, 4 Losses, 5 Ties\n",
      "Enter your move: (r)ock (p)aper (s)cissors or (q)uit\n",
      "ROCK versus...\n",
      "ROCK\n",
      "It is a tie!\n",
      "5 Wins, 4 Losses, 6 Ties\n",
      "Enter your move: (r)ock (p)aper (s)cissors or (q)uit\n",
      "ROCK versus...\n",
      "ROCK\n",
      "It is a tie!\n",
      "5 Wins, 4 Losses, 7 Ties\n",
      "Enter your move: (r)ock (p)aper (s)cissors or (q)uit\n",
      "ROCK versus...\n",
      "ROCK\n",
      "It is a tie!\n",
      "5 Wins, 4 Losses, 8 Ties\n",
      "Enter your move: (r)ock (p)aper (s)cissors or (q)uit\n",
      "PAPER versus...\n",
      "ROCK\n",
      "You win!\n",
      "6 Wins, 4 Losses, 8 Ties\n",
      "Enter your move: (r)ock (p)aper (s)cissors or (q)uit\n",
      "PAPER versus...\n",
      "ROCK\n",
      "You win!\n",
      "7 Wins, 4 Losses, 8 Ties\n",
      "Enter your move: (r)ock (p)aper (s)cissors or (q)uit\n",
      "PAPER versus...\n",
      "SCISSORS\n",
      "You lose!\n",
      "7 Wins, 5 Losses, 8 Ties\n",
      "Enter your move: (r)ock (p)aper (s)cissors or (q)uit\n",
      "PAPER versus...\n",
      "PAPER\n",
      "It is a tie!\n",
      "7 Wins, 5 Losses, 9 Ties\n",
      "Enter your move: (r)ock (p)aper (s)cissors or (q)uit\n",
      "PAPER versus...\n",
      "SCISSORS\n",
      "You lose!\n",
      "7 Wins, 6 Losses, 9 Ties\n",
      "Enter your move: (r)ock (p)aper (s)cissors or (q)uit\n",
      "PAPER versus...\n",
      "SCISSORS\n",
      "You lose!\n",
      "7 Wins, 7 Losses, 9 Ties\n",
      "Enter your move: (r)ock (p)aper (s)cissors or (q)uit\n"
     ]
    },
    {
     "ename": "SystemExit",
     "evalue": "",
     "output_type": "error",
     "traceback": [
      "An exception has occurred, use %tb to see the full traceback.\n",
      "\u001b[1;31mSystemExit\u001b[0m\n"
     ]
    }
   ],
   "source": [
    "import random, sys\n",
    "\n",
    "print('ROCK, PAPER, SCISSORS')\n",
    "\n",
    "# These variables keep track of the number of wins, losses, and ties.\n",
    "wins = 0\n",
    "losses = 0\n",
    "ties = 0\n",
    "\n",
    "while True: # The main game loop.\n",
    "    print('%s Wins, %s Losses, %s Ties' % (wins, losses, ties))\n",
    "    while True: # The player input loop.\n",
    "        print('Enter your move: (r)ock (p)aper (s)cissors or (q)uit')\n",
    "        playerMove = input()\n",
    "        if playerMove == 'q':\n",
    "            sys.exit() # Quit the program.\n",
    "        if playerMove == 'r' or playerMove == 'p' or playerMove == 's':\n",
    "            break # Break out of the player input loop.\n",
    "        print('Type one of r, p, s, or q.')\n",
    "\n",
    "    # Display what the player chose:\n",
    "    if playerMove == 'r':\n",
    "        print('ROCK versus...')\n",
    "    elif playerMove == 'p':\n",
    "        print('PAPER versus...')\n",
    "    elif playerMove == 's':\n",
    "        print('SCISSORS versus...')\n",
    "\n",
    "    # Display what the computer chose:\n",
    "    randomNumber = random.randint(1, 3)\n",
    "    if randomNumber == 1:\n",
    "        computerMove = 'r'\n",
    "        print('ROCK')\n",
    "    elif randomNumber == 2:\n",
    "        computerMove = 'p'\n",
    "        print('PAPER')\n",
    "    elif randomNumber == 3:\n",
    "        computerMove = 's'\n",
    "        print('SCISSORS')\n",
    "\n",
    "    # Display and record the win/loss/tie:\n",
    "    if playerMove == computerMove:\n",
    "        print('It is a tie!')\n",
    "        ties = ties + 1\n",
    "    elif playerMove == 'r' and computerMove == 's':\n",
    "        print('You win!')\n",
    "        wins = wins + 1\n",
    "    elif playerMove == 'p' and computerMove == 'r':\n",
    "        print('You win!')\n",
    "        wins = wins + 1\n",
    "    elif playerMove == 's' and computerMove == 'p':\n",
    "        print('You win!')\n",
    "        wins = wins + 1\n",
    "    elif playerMove == 'r' and computerMove == 'p':\n",
    "        print('You lose!')\n",
    "        losses = losses + 1\n",
    "    elif playerMove == 'p' and computerMove == 's':\n",
    "        print('You lose!')\n",
    "        losses = losses + 1\n",
    "    elif playerMove == 's' and computerMove == 'r':\n",
    "        print('You lose!')\n",
    "        losses = losses + 1"
   ]
  },
  {
   "cell_type": "code",
   "execution_count": 21,
   "id": "18d593a9",
   "metadata": {},
   "outputs": [
    {
     "name": "stdout",
     "output_type": "stream",
     "text": [
      "False False True False False True\n"
     ]
    }
   ],
   "source": [
    "first = (5 > 4) and (3 == 5)\n",
    "second = not (5 > 4)\n",
    "third = (5 > 4) or (3 == 5)\n",
    "fourth = not ((5 > 4) or (3 == 5))\n",
    "fifth = (True and True) and (True == False)\n",
    "sixth = (not False) or (not True)\n",
    "print(first, second, third, fourth, fifth, sixth)"
   ]
  },
  {
   "cell_type": "code",
   "execution_count": 22,
   "id": "75e1473a",
   "metadata": {},
   "outputs": [
    {
     "name": "stdout",
     "output_type": "stream",
     "text": [
      "Who are you?\n",
      "Who are you?\n",
      "Who are you?\n",
      "Hello, Joe. What is the password? (It is a fish.)\n",
      "Access granted.\n"
     ]
    }
   ],
   "source": [
    "while True:\n",
    "      print('Who are you?')\n",
    "      name = input()\n",
    "      if name != 'Joe':\n",
    "        continue\n",
    "      print('Hello, Joe. What is the password? (It is a fish.)')\n",
    "      password = input()\n",
    "      if password == 'swordfish':\n",
    "         break\n",
    "print('Access granted.')    "
   ]
  },
  {
   "cell_type": "code",
   "execution_count": 31,
   "id": "d9a429b6",
   "metadata": {},
   "outputs": [
    {
     "name": "stdout",
     "output_type": "stream",
     "text": [
      "0 1 2 3 4 5 6 7 8 9 "
     ]
    }
   ],
   "source": [
    "#range(10), range(0, 10), and range(0, 10, 1)\n",
    "for i in range(10):\n",
    "    print(i, end=' ')\n",
    "    #range (10) ==> output is - 0 1 2 3 4 5 6 7 8 9"
   ]
  },
  {
   "cell_type": "code",
   "execution_count": 32,
   "id": "8df96730",
   "metadata": {},
   "outputs": [
    {
     "name": "stdout",
     "output_type": "stream",
     "text": [
      "0 1 2 3 4 5 6 7 8 9 "
     ]
    }
   ],
   "source": [
    "for i in range(0, 10):\n",
    "    print(i, end=' ')\n",
    "    #range (0, 10) ==> output is - 0 1 2 3 4 5 6 7 8 9\n"
   ]
  },
  {
   "cell_type": "code",
   "execution_count": 33,
   "id": "65f4fbc8",
   "metadata": {},
   "outputs": [
    {
     "name": "stdout",
     "output_type": "stream",
     "text": [
      "0 1 2 3 4 5 6 7 8 9 "
     ]
    }
   ],
   "source": [
    "for i in range(0, 10, 1):\n",
    "    print(i, end=' ')\n",
    "    #range (0, 10, 1) ==> output is - 0 1 2 3 4 5 6 7 8 9"
   ]
  },
  {
   "cell_type": "code",
   "execution_count": 34,
   "id": "7c74e970",
   "metadata": {},
   "outputs": [
    {
     "name": "stdout",
     "output_type": "stream",
     "text": [
      "0\n",
      "1\n",
      "2\n",
      "3\n",
      "4\n",
      "5\n",
      "6\n",
      "7\n",
      "8\n",
      "9\n"
     ]
    }
   ],
   "source": [
    "for x in range(10):\n",
    "    print(x)\n",
    "    #range (10) ==> output is - 0 1 2 3 4 5 6 7 8 9"
   ]
  },
  {
   "cell_type": "code",
   "execution_count": 40,
   "id": "2ea3f3c3",
   "metadata": {},
   "outputs": [
    {
     "name": "stdout",
     "output_type": "stream",
     "text": [
      "0\n",
      "1\n",
      "2\n",
      "3\n",
      "4\n",
      "5\n",
      "6\n",
      "7\n",
      "8\n",
      "9\n"
     ]
    }
   ],
   "source": [
    "x = 0\n",
    "while x < 10:\n",
    "    print(x)\n",
    "    x = x + 1\n",
    "    #while loop ==> output is - 0 1 2 3 4 5 6 7 8 9"
   ]
  }
 ],
 "metadata": {
  "kernelspec": {
   "display_name": "Python 3",
   "language": "python",
   "name": "python3"
  },
  "language_info": {
   "codemirror_mode": {
    "name": "ipython",
    "version": 3
   },
   "file_extension": ".py",
   "mimetype": "text/x-python",
   "name": "python",
   "nbconvert_exporter": "python",
   "pygments_lexer": "ipython3",
   "version": "3.10.11"
  }
 },
 "nbformat": 4,
 "nbformat_minor": 5
}
